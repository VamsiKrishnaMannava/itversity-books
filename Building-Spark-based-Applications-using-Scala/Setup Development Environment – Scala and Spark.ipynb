{
 "cells": [
  {
   "cell_type": "markdown",
   "metadata": {},
   "source": [
    "# Setup Development Environment – Scala and Spark"
   ]
  },
  {
   "cell_type": "markdown",
   "metadata": {},
   "source": [
    "As part of this blog post we will see detailed instructions about setting up development environment for Spark and Hadoop application development using Windows.\n",
    "\n",
    "* We have used Windows 10 for this demo using 64 bit version\n",
    "* Setup development environment on Windows\n",
    "* For each of the section we will see\n",
    "    * Why we need to perform the step?\n",
    "    * How to perform the step?\n",
    "    * How we can validate whether it is working as expected?\n",
    "* We will also develop few programs to validate whether our setup is progressing as expected or not\n",
    "* In case you run into any issues, please log those in our [forums](http://discuss.itversity.com/)    "
   ]
  },
  {
   "cell_type": "code",
   "execution_count": null,
   "metadata": {},
   "outputs": [],
   "source": []
  }
 ],
 "metadata": {
  "kernelspec": {
   "display_name": "Apache Toree - Scala",
   "language": "scala",
   "name": "apache_toree_scala"
  },
  "language_info": {
   "codemirror_mode": "text/x-scala",
   "file_extension": ".scala",
   "mimetype": "text/x-scala",
   "name": "scala",
   "pygments_lexer": "scala",
   "version": "2.11.12"
  }
 },
 "nbformat": 4,
 "nbformat_minor": 4
}
