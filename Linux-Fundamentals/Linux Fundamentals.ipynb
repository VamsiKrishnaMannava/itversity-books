{
 "cells": [
  {
   "cell_type": "markdown",
   "metadata": {},
   "source": [
    "# **Linux Fundamentals**"
   ]
  },
  {
   "cell_type": "markdown",
   "metadata": {},
   "source": [
    "While Windows is popular in PCs, Linux is popular in running applications. It is highly desired for every IT professional or aspirant to have good Linux knowledge.\n",
    "* Important linux commands to deal with file system\n",
    "* Ability to troubleshoot the applications\n",
    "* Regular expressions to validate the data\n",
    "* Automate mundane tasks using shell scripting\n",
    "* and more\n",
    "\n",
    "As part of this lesson, we will touch those important aspects which are minimum requirement for almost every IT professional/aspirant\n",
    "* Application Developers\n",
    "* Data Engineers\n",
    "* System Administrators\n",
    "* DevOps Engineers\n",
    "* QA Engineers\n",
    "* Production Support Engineers\n",
    "* and more\n",
    "\n",
    "Here is the PPT of the module – [LinuxFundamentals](https://www.itversity.com/courses/data-engineering-bootcamp/lessons/linux-fundamentals/)\n",
    "\n",
    "We are working on creating shorter videos and here are the consolidated videos of this section.\n",
    "\n"
   ]
  }
 ],
 "metadata": {
  "kernelspec": {
   "display_name": "Python 3",
   "language": "python",
   "name": "python3"
  },
  "language_info": {
   "codemirror_mode": {
    "name": "ipython",
    "version": 3
   },
   "file_extension": ".py",
   "mimetype": "text/x-python",
   "name": "python",
   "nbconvert_exporter": "python",
   "pygments_lexer": "ipython3",
   "version": "3.6.8"
  }
 },
 "nbformat": 4,
 "nbformat_minor": 4
}
