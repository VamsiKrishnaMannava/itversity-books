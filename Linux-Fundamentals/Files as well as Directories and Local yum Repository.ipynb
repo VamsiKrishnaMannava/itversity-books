{
 "cells": [
  {
   "cell_type": "markdown",
   "metadata": {},
   "source": [
    "# **Files as well as Directories and Local yum Repository**"
   ]
  },
  {
   "cell_type": "markdown",
   "metadata": {},
   "source": [
    "Let us understand more about creating and manipulating files, access control lists (ACLs) and also see how to setup http server\n",
    "* Creating and manipulating files (touch, cat, output redirect)\n",
    "* Understand standard input, output and error (we will use this information as part of shell scripts)\n",
    "* Basic file and directory permissions\n",
    "* Understanding ACLs\n",
    "* Navigating history of commands (using vi mode, requires understanding about vi editor)\n",
    "* Setting up httpd service and validating the service\n",
    "* Brief overview of process and port number associated with the process\n",
    "* Important port numbers – 22, 80, 443 etc\n",
    "\n",
    "## **Creating and manipulating files**\n",
    "\n",
    "Let us see how we can create and manipulate files in Linux.\n",
    "\n",
    "We can create a file using touch command.\n",
    "\n",
    "```touch <file_name>```\n",
    "\n",
    "Create a directory and use the touch command to create a file. Check whether the file has been created or not using the ls -ltr command, The advantage of touch command is we can create an empty file and update the timestamp of an existing file.\n",
    "\n",
    "## **Adding Data to Files Using cat and redirect**\n",
    "\n",
    "Let us see how we can generate data using cat and by redirecting it into files.\n",
    "\n",
    "We can use cat command to append or redirect the output to a file. We can create a file using\n",
    "\n",
    "```cat > <filename> ex: cat > test2```\n",
    "\n",
    "We can also redirect the standard output of a file into a new file or an existing file with **‘>’**. For an existing file the contents of the file will be overridden. We can even append the contents of a file to the end an existing file using **‘>>’**. Another way to create a file is using **vi** or **nano**. To see the contents of files we can use cat command. We can also use editors such as vi or nano to see the contents of the file and update the file. There is a command called view to open the file in read-only mode. To troubleshoot the issues, it is recommended to open the file using view command.\n",
    "\n",
    "* head command – If the file size is large, we can use the head command to get the structure of the data.\n",
    "\n",
    "```head -10 <filename> gives the first 10 lines of the file```\n",
    "\n",
    "* tail command – To get the last few lines of the file we can use tail command.\n",
    "\n",
    "```tail -10 <filename> gives the last 10 lines of the file.```\n",
    "\n",
    "```tail -f <filename> is predominantly used for troubleshooting issues.```\n",
    "\n",
    "* **view** command – opens the file in editor and we can navigate through the file whereas cat prints the output to console.\n",
    "\n",
    "```view <filename>```\n",
    "\n",
    "* **cp** command is used to copy the files.\n",
    "\n",
    "```cp command is used to copy the files.```\n",
    "\n",
    "**“-p”** is a control argument that can be supplied to cp which preserves the timestamp, owners, and permissions of a file. When we use cp -p the file is copied with the source file properties (timestamp, owners, and permissions) instead of using the default.\n",
    "* mv command – Instead of copying the file from source to target we can even move the file using the mv command. Move command works faster than copy.\n",
    "* rm command – We can delete the files by using rm command.\n",
    "* (interactive) is a control argument that can be supplied with rm and mv command which prompts whether to delete or move a file.\n",
    "\n",
    "```Ex: rm derby.log.copy-i```\n",
    "\n",
    "```Ex: rm derby.log.copy-i```\n",
    "\n",
    "A relative path is a path relative to the current location. Since most users do not want to see the full path as their prompt, by default the prompt is relative to their personal directory. The fully qualified path contains the full path starting from the root file.\n",
    "\n",
    "```Fully qualified path -- /home/training/derby.log```\n",
    "\n",
    "```Relative path -- ./derby.log or derby.log (. is an alias for the current directory)```\n",
    "\n",
    "A relative path can be represented in multiple ways. It is always recommended to use a fully qualified path.\n",
    "\n",
    "## **Standard input, output, and error**\n",
    "\n",
    "Let us discuss details about for input, output and error.\n",
    "\n",
    "## **Managing Directories**\n",
    "\n",
    "Let us see how we can manage directories in Linux.\n",
    "\n",
    "* we can create the directories using mkdir command. ls and find commands are used to read the contents of the directories.\n"
   ]
  },
  {
   "cell_type": "code",
   "execution_count": 2,
   "metadata": {},
   "outputs": [],
   "source": [
    "%%sh\n",
    "mkdir testdir"
   ]
  },
  {
   "cell_type": "markdown",
   "metadata": {},
   "source": [
    "* To create multiple directories in one shot, use the mkdir command followed by the list of directories separated by space delimiter."
   ]
  },
  {
   "cell_type": "code",
   "execution_count": 3,
   "metadata": {},
   "outputs": [],
   "source": [
    "%%sh\n",
    "mkdir testdir1 testdir2 testdir3"
   ]
  },
  {
   "cell_type": "markdown",
   "metadata": {},
   "source": [
    "* If we want to delete the directories recursively use **rm -r** command which deletes the files and then the directory.\n",
    "* If there are files in the directory, then use **rm -rf** by which we are forcefully removing the files in the directory.\n",
    "* We can also create multiple directories with naming convention by using patterns option with mkdir.\n",
    "\n"
   ]
  },
  {
   "cell_type": "code",
   "execution_count": 4,
   "metadata": {},
   "outputs": [],
   "source": [
    "%%sh\n",
    "mkdir testdir{00.09}"
   ]
  },
  {
   "cell_type": "markdown",
   "metadata": {},
   "source": [
    "* We can create a directory from an environment variable or the output of a command."
   ]
  },
  {
   "cell_type": "code",
   "execution_count": 5,
   "metadata": {},
   "outputs": [],
   "source": [
    "%%sh\n",
    "mkdir testdir_$USER"
   ]
  },
  {
   "cell_type": "code",
   "execution_count": 6,
   "metadata": {},
   "outputs": [
    {
     "name": "stderr",
     "output_type": "stream",
     "text": [
      "mkdir: cannot create directory ‘testdir_pavanimadala’: File exists\n"
     ]
    },
    {
     "ename": "CalledProcessError",
     "evalue": "Command 'b'mkdir testdir_`whoami`\\n'' returned non-zero exit status 1.",
     "output_type": "error",
     "traceback": [
      "\u001b[0;31m---------------------------------------------------------------------------\u001b[0m",
      "\u001b[0;31mCalledProcessError\u001b[0m                        Traceback (most recent call last)",
      "\u001b[0;32m<ipython-input-6-69dd9574f3ed>\u001b[0m in \u001b[0;36m<module>\u001b[0;34m\u001b[0m\n\u001b[0;32m----> 1\u001b[0;31m \u001b[0mget_ipython\u001b[0m\u001b[0;34m(\u001b[0m\u001b[0;34m)\u001b[0m\u001b[0;34m.\u001b[0m\u001b[0mrun_cell_magic\u001b[0m\u001b[0;34m(\u001b[0m\u001b[0;34m'sh'\u001b[0m\u001b[0;34m,\u001b[0m \u001b[0;34m''\u001b[0m\u001b[0;34m,\u001b[0m \u001b[0;34m'mkdir testdir_`whoami`\\n'\u001b[0m\u001b[0;34m)\u001b[0m\u001b[0;34m\u001b[0m\u001b[0;34m\u001b[0m\u001b[0m\n\u001b[0m",
      "\u001b[0;32m/usr/local/lib/python3.6/site-packages/IPython/core/interactiveshell.py\u001b[0m in \u001b[0;36mrun_cell_magic\u001b[0;34m(self, magic_name, line, cell)\u001b[0m\n\u001b[1;32m   2360\u001b[0m             \u001b[0;32mwith\u001b[0m \u001b[0mself\u001b[0m\u001b[0;34m.\u001b[0m\u001b[0mbuiltin_trap\u001b[0m\u001b[0;34m:\u001b[0m\u001b[0;34m\u001b[0m\u001b[0;34m\u001b[0m\u001b[0m\n\u001b[1;32m   2361\u001b[0m                 \u001b[0margs\u001b[0m \u001b[0;34m=\u001b[0m \u001b[0;34m(\u001b[0m\u001b[0mmagic_arg_s\u001b[0m\u001b[0;34m,\u001b[0m \u001b[0mcell\u001b[0m\u001b[0;34m)\u001b[0m\u001b[0;34m\u001b[0m\u001b[0;34m\u001b[0m\u001b[0m\n\u001b[0;32m-> 2362\u001b[0;31m                 \u001b[0mresult\u001b[0m \u001b[0;34m=\u001b[0m \u001b[0mfn\u001b[0m\u001b[0;34m(\u001b[0m\u001b[0;34m*\u001b[0m\u001b[0margs\u001b[0m\u001b[0;34m,\u001b[0m \u001b[0;34m**\u001b[0m\u001b[0mkwargs\u001b[0m\u001b[0;34m)\u001b[0m\u001b[0;34m\u001b[0m\u001b[0;34m\u001b[0m\u001b[0m\n\u001b[0m\u001b[1;32m   2363\u001b[0m             \u001b[0;32mreturn\u001b[0m \u001b[0mresult\u001b[0m\u001b[0;34m\u001b[0m\u001b[0;34m\u001b[0m\u001b[0m\n\u001b[1;32m   2364\u001b[0m \u001b[0;34m\u001b[0m\u001b[0m\n",
      "\u001b[0;32m/usr/local/lib/python3.6/site-packages/IPython/core/magics/script.py\u001b[0m in \u001b[0;36mnamed_script_magic\u001b[0;34m(line, cell)\u001b[0m\n\u001b[1;32m    140\u001b[0m             \u001b[0;32melse\u001b[0m\u001b[0;34m:\u001b[0m\u001b[0;34m\u001b[0m\u001b[0;34m\u001b[0m\u001b[0m\n\u001b[1;32m    141\u001b[0m                 \u001b[0mline\u001b[0m \u001b[0;34m=\u001b[0m \u001b[0mscript\u001b[0m\u001b[0;34m\u001b[0m\u001b[0;34m\u001b[0m\u001b[0m\n\u001b[0;32m--> 142\u001b[0;31m             \u001b[0;32mreturn\u001b[0m \u001b[0mself\u001b[0m\u001b[0;34m.\u001b[0m\u001b[0mshebang\u001b[0m\u001b[0;34m(\u001b[0m\u001b[0mline\u001b[0m\u001b[0;34m,\u001b[0m \u001b[0mcell\u001b[0m\u001b[0;34m)\u001b[0m\u001b[0;34m\u001b[0m\u001b[0;34m\u001b[0m\u001b[0m\n\u001b[0m\u001b[1;32m    143\u001b[0m \u001b[0;34m\u001b[0m\u001b[0m\n\u001b[1;32m    144\u001b[0m         \u001b[0;31m# write a basic docstring:\u001b[0m\u001b[0;34m\u001b[0m\u001b[0;34m\u001b[0m\u001b[0;34m\u001b[0m\u001b[0m\n",
      "\u001b[0;32m<decorator-gen-110>\u001b[0m in \u001b[0;36mshebang\u001b[0;34m(self, line, cell)\u001b[0m\n",
      "\u001b[0;32m/usr/local/lib/python3.6/site-packages/IPython/core/magic.py\u001b[0m in \u001b[0;36m<lambda>\u001b[0;34m(f, *a, **k)\u001b[0m\n\u001b[1;32m    185\u001b[0m     \u001b[0;31m# but it's overkill for just that one bit of state.\u001b[0m\u001b[0;34m\u001b[0m\u001b[0;34m\u001b[0m\u001b[0;34m\u001b[0m\u001b[0m\n\u001b[1;32m    186\u001b[0m     \u001b[0;32mdef\u001b[0m \u001b[0mmagic_deco\u001b[0m\u001b[0;34m(\u001b[0m\u001b[0marg\u001b[0m\u001b[0;34m)\u001b[0m\u001b[0;34m:\u001b[0m\u001b[0;34m\u001b[0m\u001b[0;34m\u001b[0m\u001b[0m\n\u001b[0;32m--> 187\u001b[0;31m         \u001b[0mcall\u001b[0m \u001b[0;34m=\u001b[0m \u001b[0;32mlambda\u001b[0m \u001b[0mf\u001b[0m\u001b[0;34m,\u001b[0m \u001b[0;34m*\u001b[0m\u001b[0ma\u001b[0m\u001b[0;34m,\u001b[0m \u001b[0;34m**\u001b[0m\u001b[0mk\u001b[0m\u001b[0;34m:\u001b[0m \u001b[0mf\u001b[0m\u001b[0;34m(\u001b[0m\u001b[0;34m*\u001b[0m\u001b[0ma\u001b[0m\u001b[0;34m,\u001b[0m \u001b[0;34m**\u001b[0m\u001b[0mk\u001b[0m\u001b[0;34m)\u001b[0m\u001b[0;34m\u001b[0m\u001b[0;34m\u001b[0m\u001b[0m\n\u001b[0m\u001b[1;32m    188\u001b[0m \u001b[0;34m\u001b[0m\u001b[0m\n\u001b[1;32m    189\u001b[0m         \u001b[0;32mif\u001b[0m \u001b[0mcallable\u001b[0m\u001b[0;34m(\u001b[0m\u001b[0marg\u001b[0m\u001b[0;34m)\u001b[0m\u001b[0;34m:\u001b[0m\u001b[0;34m\u001b[0m\u001b[0;34m\u001b[0m\u001b[0m\n",
      "\u001b[0;32m/usr/local/lib/python3.6/site-packages/IPython/core/magics/script.py\u001b[0m in \u001b[0;36mshebang\u001b[0;34m(self, line, cell)\u001b[0m\n\u001b[1;32m    243\u001b[0m             \u001b[0msys\u001b[0m\u001b[0;34m.\u001b[0m\u001b[0mstderr\u001b[0m\u001b[0;34m.\u001b[0m\u001b[0mflush\u001b[0m\u001b[0;34m(\u001b[0m\u001b[0;34m)\u001b[0m\u001b[0;34m\u001b[0m\u001b[0;34m\u001b[0m\u001b[0m\n\u001b[1;32m    244\u001b[0m         \u001b[0;32mif\u001b[0m \u001b[0margs\u001b[0m\u001b[0;34m.\u001b[0m\u001b[0mraise_error\u001b[0m \u001b[0;32mand\u001b[0m \u001b[0mp\u001b[0m\u001b[0;34m.\u001b[0m\u001b[0mreturncode\u001b[0m\u001b[0;34m!=\u001b[0m\u001b[0;36m0\u001b[0m\u001b[0;34m:\u001b[0m\u001b[0;34m\u001b[0m\u001b[0;34m\u001b[0m\u001b[0m\n\u001b[0;32m--> 245\u001b[0;31m             \u001b[0;32mraise\u001b[0m \u001b[0mCalledProcessError\u001b[0m\u001b[0;34m(\u001b[0m\u001b[0mp\u001b[0m\u001b[0;34m.\u001b[0m\u001b[0mreturncode\u001b[0m\u001b[0;34m,\u001b[0m \u001b[0mcell\u001b[0m\u001b[0;34m,\u001b[0m \u001b[0moutput\u001b[0m\u001b[0;34m=\u001b[0m\u001b[0mout\u001b[0m\u001b[0;34m,\u001b[0m \u001b[0mstderr\u001b[0m\u001b[0;34m=\u001b[0m\u001b[0merr\u001b[0m\u001b[0;34m)\u001b[0m\u001b[0;34m\u001b[0m\u001b[0;34m\u001b[0m\u001b[0m\n\u001b[0m\u001b[1;32m    246\u001b[0m \u001b[0;34m\u001b[0m\u001b[0m\n\u001b[1;32m    247\u001b[0m     \u001b[0;32mdef\u001b[0m \u001b[0m_run_script\u001b[0m\u001b[0;34m(\u001b[0m\u001b[0mself\u001b[0m\u001b[0;34m,\u001b[0m \u001b[0mp\u001b[0m\u001b[0;34m,\u001b[0m \u001b[0mcell\u001b[0m\u001b[0;34m,\u001b[0m \u001b[0mto_close\u001b[0m\u001b[0;34m)\u001b[0m\u001b[0;34m:\u001b[0m\u001b[0;34m\u001b[0m\u001b[0;34m\u001b[0m\u001b[0m\n",
      "\u001b[0;31mCalledProcessError\u001b[0m: Command 'b'mkdir testdir_`whoami`\\n'' returned non-zero exit status 1."
     ]
    }
   ],
   "source": [
    "%%sh\n",
    "mkdir testdir_`whoami`"
   ]
  },
  {
   "cell_type": "markdown",
   "metadata": {},
   "source": [
    "* **ls** command gives the list of files in ascending order by the name of the file.\n",
    "    * **ls -l** command list the files with all the details of file such as permissions, owner, group, and timestamp.\n",
    "* Control arguments control the behavior of the command.\n",
    "    * **ls -lt** sorts all the files in descending order based on the timestamp. (t is for timestamp)\n",
    "    * **ls -ltr** sorts all the files in ascending order based on the timestamp. (r is for reverse)\n",
    "    * **ls -lr** sorts all the files in descending order by file name.\n",
    "* **find** command retrieves all the files and directories that are available in the given path path. Ex: **find**.\n",
    "* There are control arguments like -type, -name and -mtime that can be supplied to find which retrieves the files based on name and timestamp. Ex: **find . -name “*.log” -mtime -1**\n",
    "* **find** command has different control arguments like\n",
    "\n",
    "    **-name** => to search the files based on name (we can give even patters as well)\n",
    "    \n",
    "    **-type** => to check for directories(d) , softlinks (l) and files (f)\n",
    "    \n",
    "    **-mtime** => mtime is modified time. We can use this to get the files that are modified in last 24 hours.\n",
    "    \n",
    "    **-print** => to print the o/p on screen.\n",
    "    \n",
    "    **find ~ -name** retrieves all the files in home directory. Internally the command is ran as\n",
    "\n",
    "```find ~ -name “* ” -print```\n",
    "    \n",
    "* If we want to get all the files with tar extension\n",
    "\n",
    "```find ~ -name “*.tar”```\n",
    "\n",
    "find ~ -name “*” -type d retrieves all the directories.\n",
    "\n",
    "* If we want to get all the properties about the file use -exec control argument.\n",
    "\n",
    "```find ~ -name “*” -exec ls-ltr {} \\;```\n",
    "\n",
    "* On the find o/p if we want to run some other command then use -exec.\n",
    "* To get all the directories with all the properties details use -type control argument.\n",
    "\n",
    "```find ~ -name “*” -type d -exec ls-ltr {} \\;```\n",
    "\n",
    "* To get all the directories that are modified in last 24 hours use the below command.\n",
    "\n",
    "```find ~ -name “*” -type d -mtime -1 -exec ls-ltr {} \\;```\n",
    "\n",
    "* We can even get all the files with .log extension in a directory using a pattern.\n",
    "\n",
    "```find ~ -name “*.log” -mtime -1 -exec ls-ltr {} \\;```\n",
    "\n",
    "* **rsync** is used to copy data from local to server machine and vice versa. To run rsync we need to have access to remote server and cgywin or windows subsystem for Linux installed on local machine.Ex: **rsync -avz  <local_path> <username@hostname>:~**\n",
    "\n",
    "# **File and Directory Permissions**\n",
    "\n",
    "Let us go through the permissions over files and directories.\n",
    "* **ls -ltr** gives the properties of files such as permissions, file size and name.\n",
    "* The file permissions are represented in binary format. The first letter n the permission describes whether it is a file or directory.\n",
    "* For directory it is represented with d for file it is blank.\n",
    "* **Id (username)** gives the uid and the default group for that user.\n",
    "* We can even change the owner of the directory or file. But it is mostly done by admins.\n",
    "* To change the owner of a file we use **chown** and to change the group of a file **chgrp**.\n",
    "* To change the permissions on a file or directory we use **chmod**.\n",
    "* To disable the execute permissions for owners group and others on a file or directories we use **-x** or **644**\n",
    "\n",
    "\n"
   ]
  },
  {
   "cell_type": "code",
   "execution_count": null,
   "metadata": {},
   "outputs": [],
   "source": [
    "%%sh\n",
    "chmod 644 testingdir"
   ]
  },
  {
   "cell_type": "markdown",
   "metadata": {},
   "source": [
    "* To grant execute permissions for all we use **+x** or **744** which means only owner has the execute permissions.\n"
   ]
  },
  {
   "cell_type": "code",
   "execution_count": null,
   "metadata": {},
   "outputs": [],
   "source": [
    "%%sh\n",
    "chmod 744 testingdir"
   ]
  },
  {
   "cell_type": "markdown",
   "metadata": {},
   "source": [
    "## **Changing Ownership**\n",
    "\n",
    "Let us see how we can change the ownership of the files and directories.\n",
    "* To change the group of a directory used\n",
    "\n",
    "```sudo chown :students testingdir```\n",
    "\n",
    "* **chown –help** gives all the list of control arguments.\n",
    "* umask is associated with owner level. At each owner level there can be different umask.\n",
    "* It is the default permissions for the files or directories created by an owner.\n",
    "\n",
    "## **Understanding ACLs (Access Control lists)**\n",
    "\n",
    "While regular permissions can be divided between user/owner, group and others if we want to control access at more granular level, then we need to fall back on ACLs. Let us go through details related to ACLs.\n",
    "\n",
    "By default, the permissions of file are associated with owner, other members in the default group of the owner and others.\n",
    "* To give control access to groups or other members of group or different group we need to use ACL.\n",
    "* To get ACL we run a command called getfacl. It gives the permissions or ACL related details for a file we use it.\n",
    "\n",
    "```getfacl derby.log```\n",
    "\n",
    "gives the details about the permissions on the file for user, group and other.\n",
    "* If we want to use acl and give permission on a file to a user or a group, then use a command called setfacl\n",
    "\n",
    "```setfacl -m user:<username>:rw derby.log```\n",
    "\n",
    "* For removing acl we need to use **-b** option.\n",
    "\n",
    "```setfacl -b derby.log```\n",
    "\n",
    "```getfacl --help to get all the control arguments for it.```\n",
    "\n",
    "```ls -lhtr displays the list of files in human readable format.```\n",
    "* **grep** command is used to filter content form the file.\n",
    "* The syntax for grep command is grep [OPTIONS] “pattern” <file_name> Ex: grep “os” derby.log\n",
    "* **grep -v “os” derby.log** gives all the lines that does not have os word.\n",
    "* To sort data, we use **sort** command. To get unique records we use uniq command.\n",
    "\n",
    "## **Navigating history of Commands**\n",
    "\n",
    "Let us see how we can navigate history of commands so that we can reuse the commands instead of typing again.\n",
    "\n",
    "```history            - To get the history```\n",
    "\n",
    "```vi ~/.bash_history - history of commands (appropriate history file)```\n",
    "\n",
    "```set -o vi```\n",
    "\n",
    "Search for a particular command using vi mode (press ‘esc’ and ‘/’ and command) more effectively to navigate into history\n",
    "\n",
    "## **Setting up httpd service and validating the service**\n",
    "\n",
    "Let us see how we can setup httpd service and also validate it.\n",
    "\n",
    "HTTP Daemon is a software program that runs in the background of a web server and waits for the incoming server requests. The daemon answers the request automatically and serves the hypertext and multimedia documents over the internet using HTTP. HTTPd stands for Hypertext Transfer Protocol daemon (i.e. Web server).\n",
    "\n",
    "To Install: sudo yum -y install httpd\n",
    "\n",
    "To check the status : sudo systemctl status httpd\n",
    "\n",
    "To start : sudo systemctl start httpd\n",
    "\n",
    "To Enable: sudo systemctl enable httpd\n",
    "\n",
    "## **Important port numbers**\n",
    "\n",
    "Any application that run in Linux server will be associated with a port. Let us see some of the standard ports which we deal with on regular basis.\n",
    "\n",
    "The default port number for:\n",
    "\n",
    "ssh is 22\n",
    "\n",
    "telnet is 23\n",
    "\n",
    "http is 80\n",
    "\n",
    "https is 443.\n",
    "\n"
   ]
  }
 ],
 "metadata": {
  "kernelspec": {
   "display_name": "Python 3",
   "language": "python",
   "name": "python3"
  },
  "language_info": {
   "codemirror_mode": {
    "name": "ipython",
    "version": 3
   },
   "file_extension": ".py",
   "mimetype": "text/x-python",
   "name": "python",
   "nbconvert_exporter": "python",
   "pygments_lexer": "ipython3",
   "version": "3.6.8"
  }
 },
 "nbformat": 4,
 "nbformat_minor": 4
}
