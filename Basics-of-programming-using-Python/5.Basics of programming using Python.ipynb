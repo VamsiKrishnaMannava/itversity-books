{
 "cells": [
  {
   "cell_type": "markdown",
   "metadata": {},
   "source": [
    "## Why python?\n",
    "Python is designed to be highly readable. It uses English keywords frequently whereas the other languages use punctuations.  Python is Interpreted, Interactive and object-oriented.\n",
    "\n",
    "## History of python\n",
    "Guido van Rossum made initial attempts in development of Python in the late eighties and early nineties.The first version of python(Python 1.0) was released in November 1994. Python 2.0 was released in 2000. Python 3.0 was released in 2008. Current version of python in use is 3.6.x .\n",
    "\n",
    "## Python Features\n",
    "* Easy to learn, read and maintain\n",
    "* Portable, Extendable and Scalable\n",
    "* It supports functional and structured programming methods as well as OOP.\n",
    "* It can be used as a scripting language or can be compiled to byte-code for building large applications\n",
    "* supports dynamic type checking and  automatic garbage collection.\n",
    "\n",
    "## Syllabus\n",
    "* Basic Python\n",
    "* Declaring Variables\n",
    "* Conditional statements and loops\n",
    "* Functions\n",
    "* Operators\n",
    "* Object Oriented Concepts\n",
    "* Collections\n",
    "* Tuples\n",
    "* Pandas (Data Frames)"
   ]
  },
  {
   "cell_type": "code",
   "execution_count": null,
   "metadata": {},
   "outputs": [],
   "source": []
  }
 ],
 "metadata": {
  "kernelspec": {
   "display_name": "Python 3",
   "language": "python",
   "name": "python3"
  },
  "language_info": {
   "codemirror_mode": {
    "name": "ipython",
    "version": 3
   },
   "file_extension": ".py",
   "mimetype": "text/x-python",
   "name": "python",
   "nbconvert_exporter": "python",
   "pygments_lexer": "ipython3",
   "version": "3.6.8"
  }
 },
 "nbformat": 4,
 "nbformat_minor": 4
}
