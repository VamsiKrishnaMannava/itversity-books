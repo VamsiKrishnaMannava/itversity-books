{
 "cells": [
  {
   "cell_type": "markdown",
   "metadata": {},
   "source": [
    "# Manipulating Collections using Map Reduce APIs – Python 3\n",
    "\n",
    "As we understand about collections and how to manipulate them using traditional looping, now let us check out already existing APIs such as map reduce to process collection data.\n",
    "\n",
    "* Define problem statements\n",
    "* Develop myFilter, myMap and myReduce APIs\n",
    "* Understanding existing packages and APIs\n",
    "* Developing Solutions using Map Reduce APIs\n",
    "\n",
    "## Define Problem Statements\n",
    "Let us see few similar problem statements and understand how we can build solutions using conventional loops.\n",
    "\n",
    "* Filtering\n",
    "* Get COMPLETE orders from orders data set\n",
    "* Get orders placed on 2013-07-25\n",
    "* Get order items for given order id\n",
    "* In all 3 cases we need to iterate through collection, filter based on criteria and return collection."
   ]
  },
  {
   "cell_type": "code",
   "execution_count": 1,
   "metadata": {},
   "outputs": [
    {
     "data": {
      "text/plain": [
       "['3,2013-07-25 00:00:00.0,12111,COMPLETE',\n",
       " '5,2013-07-25 00:00:00.0,11318,COMPLETE',\n",
       " '6,2013-07-25 00:00:00.0,7130,COMPLETE',\n",
       " '7,2013-07-25 00:00:00.0,4530,COMPLETE',\n",
       " '15,2013-07-25 00:00:00.0,2568,COMPLETE',\n",
       " '17,2013-07-25 00:00:00.0,2667,COMPLETE',\n",
       " '22,2013-07-25 00:00:00.0,333,COMPLETE',\n",
       " '26,2013-07-25 00:00:00.0,7562,COMPLETE',\n",
       " '28,2013-07-25 00:00:00.0,656,COMPLETE',\n",
       " '32,2013-07-25 00:00:00.0,3960,COMPLETE']"
      ]
     },
     "execution_count": 1,
     "metadata": {},
     "output_type": "execute_result"
    }
   ],
   "source": [
    "#01-loops-filtering-by-order-status.py \n",
    "ordersPath = \"/data/retail_db/orders/part-00000\"\n",
    "\n",
    "def readData(dataPath):\n",
    "  dataFile = open(dataPath)\n",
    "  dataStr = dataFile.read()\n",
    "  dataList = dataStr.splitlines()\n",
    "  return dataList\n",
    "\n",
    "orders = readData(ordersPath)\n",
    "\n",
    "ordersFiltered = []\n",
    "for order in orders:\n",
    "    if(order.split(\",\")[3] == \"COMPLETE\"):\n",
    "        ordersFiltered.append(order)\n",
    "        \n",
    "ordersFiltered[:10]"
   ]
  },
  {
   "cell_type": "code",
   "execution_count": 2,
   "metadata": {},
   "outputs": [
    {
     "data": {
      "text/plain": [
       "['1,2013-07-25 00:00:00.0,11599,CLOSED',\n",
       " '2,2013-07-25 00:00:00.0,256,PENDING_PAYMENT',\n",
       " '3,2013-07-25 00:00:00.0,12111,COMPLETE',\n",
       " '4,2013-07-25 00:00:00.0,8827,CLOSED',\n",
       " '5,2013-07-25 00:00:00.0,11318,COMPLETE',\n",
       " '6,2013-07-25 00:00:00.0,7130,COMPLETE',\n",
       " '7,2013-07-25 00:00:00.0,4530,COMPLETE',\n",
       " '8,2013-07-25 00:00:00.0,2911,PROCESSING',\n",
       " '9,2013-07-25 00:00:00.0,5657,PENDING_PAYMENT',\n",
       " '10,2013-07-25 00:00:00.0,5648,PENDING_PAYMENT']"
      ]
     },
     "execution_count": 2,
     "metadata": {},
     "output_type": "execute_result"
    }
   ],
   "source": [
    "# 02-loops-filtering-by-order-date.py\n",
    "ordersPath = \"/data/retail_db/orders/part-00000\"\n",
    "\n",
    "def readData(dataPath):\n",
    "  dataFile = open(dataPath)\n",
    "  dataStr = dataFile.read()\n",
    "  dataList = dataStr.splitlines()\n",
    "  return dataList\n",
    "\n",
    "orders = readData(ordersPath)\n",
    "\n",
    "ordersFiltered = []\n",
    "for order in orders:\n",
    "    if(order.split(\",\")[1] == \"2013-07-25 00:00:00.0\"):\n",
    "        ordersFiltered.append(order)\n",
    "        \n",
    "ordersFiltered[:10]"
   ]
  },
  {
   "cell_type": "code",
   "execution_count": 3,
   "metadata": {},
   "outputs": [
    {
     "data": {
      "text/plain": [
       "['2,2,1073,1,199.99,199.99', '3,2,502,5,250.0,50.0', '4,2,403,1,129.99,129.99']"
      ]
     },
     "execution_count": 3,
     "metadata": {},
     "output_type": "execute_result"
    }
   ],
   "source": [
    "# 03-loops-filtering-by-order-id.py \n",
    "orderItemsPath = \"/data/retail_db/order_items/part-00000\"\n",
    "\n",
    "def readData(dataPath):\n",
    "  dataFile = open(dataPath)\n",
    "  dataStr = dataFile.read()\n",
    "  dataList = dataStr.splitlines()\n",
    "  return dataList\n",
    "\n",
    "orderItems = readData(orderItemsPath)\n",
    "\n",
    "orderItemsFiltered = []\n",
    "for orderItem in orderItems:\n",
    "    if(int(orderItem.split(\",\")[1]) == 2):\n",
    "        orderItemsFiltered.append(orderItem)\n",
    "        \n",
    "orderItemsFiltered[:10]"
   ]
  },
  {
   "cell_type": "markdown",
   "metadata": {},
   "source": [
    "* Mapping\n",
    "    * Get order_id and order_status from orders (1st and 4th fields of orders data)\n",
    "    * Get order_item_order_id and order_item_subtotal from order_items (2nd and 5th field of order_items data)\n",
    "    * Get order_month from orders data (extract year and month from 2nd field)\n",
    "    * In all 3 cases we need to iterate through collection, transform individual records and add them to new collection"
   ]
  },
  {
   "cell_type": "code",
   "execution_count": 5,
   "metadata": {},
   "outputs": [
    {
     "data": {
      "text/plain": [
       "[(1, 'CLOSED'),\n",
       " (2, 'PENDING_PAYMENT'),\n",
       " (3, 'COMPLETE'),\n",
       " (4, 'CLOSED'),\n",
       " (5, 'COMPLETE'),\n",
       " (6, 'COMPLETE'),\n",
       " (7, 'COMPLETE'),\n",
       " (8, 'PROCESSING'),\n",
       " (9, 'PENDING_PAYMENT'),\n",
       " (10, 'PENDING_PAYMENT')]"
      ]
     },
     "execution_count": 5,
     "metadata": {},
     "output_type": "execute_result"
    }
   ],
   "source": [
    "# 01-loops-get-order-id-and-order-status.py\n",
    "ordersPath = \"/data/retail_db/orders/part-00000\"\n",
    "\n",
    "def readData(dataPath):\n",
    "  dataFile = open(dataPath)\n",
    "  dataStr = dataFile.read()\n",
    "  dataList = dataStr.splitlines()\n",
    "  return dataList\n",
    "\n",
    "orders = readData(ordersPath)\n",
    "\n",
    "ordersMap = []\n",
    "for order in orders:\n",
    "    ordersMap.append((int(order.split(\",\")[0]), order.split(\",\")[3]))\n",
    "        \n",
    "ordersMap[:10]\n"
   ]
  },
  {
   "cell_type": "code",
   "execution_count": 6,
   "metadata": {},
   "outputs": [
    {
     "data": {
      "text/plain": [
       "[(1, 299.98),\n",
       " (2, 199.99),\n",
       " (2, 250.0),\n",
       " (2, 129.99),\n",
       " (4, 49.98),\n",
       " (4, 299.95),\n",
       " (4, 150.0),\n",
       " (4, 199.92),\n",
       " (5, 299.98),\n",
       " (5, 299.95)]"
      ]
     },
     "execution_count": 6,
     "metadata": {},
     "output_type": "execute_result"
    }
   ],
   "source": [
    "# 02-loops-get-order-id-and-subtotal.py\n",
    "orderItemsPath = \"/data/retail_db/order_items/part-00000\"\n",
    "\n",
    "def readData(dataPath):\n",
    "  dataFile = open(dataPath)\n",
    "  dataStr = dataFile.read()\n",
    "  dataList = dataStr.splitlines()\n",
    "  return dataList\n",
    "\n",
    "orderItems = readData(orderItemsPath)\n",
    "\n",
    "orderItemsMap = []\n",
    "for orderItem in orderItems:\n",
    "    orderItemsMap.append((int(orderItem.split(\",\")[1]), float(orderItem.split(\",\")[4])))\n",
    "        \n",
    "orderItemsMap[:10]"
   ]
  },
  {
   "cell_type": "code",
   "execution_count": 7,
   "metadata": {},
   "outputs": [
    {
     "data": {
      "text/plain": [
       "['2013-07',\n",
       " '2013-07',\n",
       " '2013-07',\n",
       " '2013-07',\n",
       " '2013-07',\n",
       " '2013-07',\n",
       " '2013-07',\n",
       " '2013-07',\n",
       " '2013-07',\n",
       " '2013-07']"
      ]
     },
     "execution_count": 7,
     "metadata": {},
     "output_type": "execute_result"
    }
   ],
   "source": [
    "# 03-loops-get-order-month.py \n",
    "ordersPath = \"/data/retail_db/orders/part-00000\"\n",
    "\n",
    "def readData(dataPath):\n",
    "  dataFile = open(dataPath)\n",
    "  dataStr = dataFile.read()\n",
    "  dataList = dataStr.splitlines()\n",
    "  return dataList\n",
    "\n",
    "orders = readData(ordersPath)\n",
    "\n",
    "ordersMap = []\n",
    "for order in orders:\n",
    "    ordersMap.append(order.split(\",\")[1][:7])\n",
    "        \n",
    "ordersMap[:10]"
   ]
  },
  {
   "cell_type": "markdown",
   "metadata": {},
   "source": [
    "* Reduce (on filtered and mapped order item subtotal based on order_id)\n",
    "    * Get total revenue by adding all the revenues\n",
    "    * Get minimum of order item subtotal\n",
    "    * Get maximum of order item subtotal\n",
    "    * In all 3 cases we need to initialize aggregator, loop through the values in collection and add it to the aggregator"
   ]
  },
  {
   "cell_type": "raw",
   "metadata": {},
   "source": [
    "#01-loops-get-data-for-aggregations.py\n",
    "orderItemsPath = \"/data/retail_db/order_items/part-00000\"\n",
    "\n",
    "def readData(dataPath):\n",
    "  dataFile = open(dataPath)\n",
    "  dataStr = dataFile.read()\n",
    "  dataList = dataStr.splitlines()\n",
    "  return dataList\n",
    "\n",
    "def getOrderItemsFiltered(orderItems, orderId):\n",
    "    orderItemsFiltered = []\n",
    "    for orderItem in orderItems:\n",
    "        if(int(orderItem.split(\",\")[1]) == orderId):\n",
    "            orderItemsFiltered.append(orderItem)\n",
    "    return orderItemsFiltered\n",
    "\n",
    "def getOrderItemsMap(orderItemsFiltered):\n",
    "    orderItemsMap = []\n",
    "    for orderItem in orderItemsFiltered:\n",
    "        orderItemsMap.append(float(orderItem.split(\",\")[4]))\n",
    "    return orderItemsMap\n",
    "\n",
    "orderItems = readData(orderItemsPath)\n",
    "orderItemsFiltered = getOrderItemsFiltered(orderItems, 2)\n",
    "orderItemsMap = getOrderItemsMap(orderItemsFiltered)"
   ]
  },
  {
   "cell_type": "raw",
   "metadata": {},
   "source": [
    "#02-loops-get-total-revenue.py\n",
    "totalRevenue = orderItemsMap[0]\n",
    "for orderItemSubtotal in orderItemsMap[1:]:\n",
    "    totalRevenue += orderItemSubtotal\n",
    "\n",
    "totalRevenue"
   ]
  },
  {
   "cell_type": "raw",
   "metadata": {},
   "source": [
    "#03-loops-get-min-revenue.py\n",
    "minRevenue = orderItemsMap[0]\n",
    "for orderItemSubtotal in orderItemsMap[1:]:\n",
    "    minRevenue = minRevenue if(minRevenue < orderItemSubtotal) else orderItemSubtotal\n",
    "\n",
    "minRevenue"
   ]
  },
  {
   "cell_type": "raw",
   "metadata": {},
   "source": [
    "#04-loops-get-max-revenue.p\n",
    "maxRevenue = orderItemsMap[0]\n",
    "for orderItemSubtotal in orderItemsMap[1:]:\n",
    "    maxRevenue = maxRevenue if(maxRevenue > orderItemSubtotal) else orderItemSubtotal\n",
    "\n",
    "maxRevenue"
   ]
  },
  {
   "cell_type": "markdown",
   "metadata": {},
   "source": [
    "## Develop myFilter, myMap and myReduce APIs\n",
    "Now let us see how we can leverage lambda functions to develop generic functions to filter data, to apply transformation or mapping, to perform aggregations using reduce.\n",
    "* myFilter function\n",
    "    * Define function with two arguments\n",
    "    * first argument – lambda function with one argument (at run time we pass a code snippet which return True or False)\n",
    "    * second argument – collection\n",
    "    * Develop the logic which will iterate through the elements in collection, apply passed filter criteria and add elements to new collections which satisfied the criteria.\n",
    "    * Here is the code and also sample invocations covering all 3 scenarios discussed above."
   ]
  },
  {
   "cell_type": "raw",
   "metadata": {},
   "source": [
    "#myFilter.py\n",
    "\n",
    "def readData(dataPath):\n",
    "  dataFile = open(dataPath)\n",
    "  dataStr = dataFile.read()\n",
    "  dataList = dataStr.splitlines()\n",
    "  return dataList\n",
    "\n",
    "def myFilter(f, c):\n",
    "    newC = []\n",
    "    for i in c:\n",
    "        if(f(i)):\n",
    "            newC.append(i)\n",
    "    return newC\n",
    "\n",
    "ordersPath = \"/data/retail_db/orders/part-00000\"\n",
    "orders = readData(ordersPath)\n",
    "ordersCompleted = myFilter(lambda o: o.split(\",\")[3] == \"COMPLETE\", orders)\n",
    "ordersCompleted[:10]\n",
    "\n",
    "ordersFilteredByDate = myFilter(lambda o: o.split(\",\")[1] == \"2013-07-25 00:00:00.0\", orders)\n",
    "ordersFilteredByDate[:10]\n",
    "\n",
    "orderItemsPath = '/data/retail_db/order_items/part-00000'\n",
    "orderItems = readData(orderItemsPath)\n",
    "orderItemsFiltered = myFilter(lambda o: int(o.split(\",\")[1]) == 2, orderItems)\n",
    "orderItemsFiltered"
   ]
  },
  {
   "cell_type": "code",
   "execution_count": null,
   "metadata": {},
   "outputs": [],
   "source": []
  }
 ],
 "metadata": {
  "kernelspec": {
   "display_name": "Python 3",
   "language": "python",
   "name": "python3"
  },
  "language_info": {
   "codemirror_mode": {
    "name": "ipython",
    "version": 3
   },
   "file_extension": ".py",
   "mimetype": "text/x-python",
   "name": "python",
   "nbconvert_exporter": "python",
   "pygments_lexer": "ipython3",
   "version": "3.6.8"
  }
 },
 "nbformat": 4,
 "nbformat_minor": 4
}
