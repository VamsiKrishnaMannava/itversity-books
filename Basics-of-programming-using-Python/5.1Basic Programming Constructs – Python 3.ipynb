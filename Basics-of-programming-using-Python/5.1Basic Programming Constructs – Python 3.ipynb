{
 "cells": [
  {
   "cell_type": "markdown",
   "metadata": {},
   "source": [
    "# Basic Programming Constructs – Python 3"
   ]
  },
  {
   "cell_type": "markdown",
   "metadata": {},
   "source": [
    "As part of this topics we will see all important details related to basic programming constructs using Python 3\n",
    "* Python CLI\n",
    "* Getting Help\n",
    "* Data types in Python\n",
    "* Operators in Python\n",
    "* Conditional Statements\n",
    "* Looping Constructs\n",
    "* Errors and Exceptions\n",
    "\n",
    "Python is a case sensitive programming language.\n",
    "\n",
    "## Python CLI and Getting Help\n",
    "Let us get started with Python CLI as well as how to get help using CLI. Also we will understand details with respect to indentation which is used for defining the scope.\n",
    "\n",
    "### <i>Python vs Java</i>\n",
    "* Python is Dynamically Typed. No need to declare anything. An assignment statement binds a name to an object, and the object can be of any type.No type casting required when using container objects where as Java is Statically Typed. All variable names (along with their types) must be explicitly declared. Attempting to assign an object of the wrong type to a variable name triggers a type exception.Type casting is required when using container objects.\n",
    "* Python uses indentation for structuring code where as Java uses  braces for structuring code.\n",
    "* Python is more compactable when compared to Java.\n",
    "\n",
    "To print Hello ,World! in java,"
   ]
  },
  {
   "cell_type": "raw",
   "metadata": {},
   "source": [
    "public class HelloWorld\n",
    "{\n",
    "   public static void main (String[] args)\n",
    "   {\n",
    "      System.out.println(\"Hello, world!\");\n",
    "   }\n",
    "}\n",
    "\n",
    "but in Python,"
   ]
  },
  {
   "cell_type": "code",
   "execution_count": 3,
   "metadata": {},
   "outputs": [
    {
     "name": "stdout",
     "output_type": "stream",
     "text": [
      "Hello,World!\n"
     ]
    }
   ],
   "source": [
    "print(\"Hello,World!\")"
   ]
  },
  {
   "cell_type": "markdown",
   "metadata": {},
   "source": [
    "### <i>Indentation</i>\n",
    "\n",
    "Python uses indentation to represent block of code.The number of spaces in the indentation is variable, \n",
    "but all statements within the block must be indented the same amount.\n",
    "\n",
    "Indentation can be done by using space-bar or tab. 1 tab = 4 spaces.\n",
    "\n",
    "### <i>Python Identifiers</i>\n",
    "* Class names start with an uppercase letter.\n",
    "* All other identifiers start with a lowercase letter.\n",
    "* An identifier starting with a single leading underscore indicates that the identifier is private. \n",
    "  Similarly an identifier starting with double leading underscores indicates a strong private identifier.\n",
    "* If the identifier also ends with two trailing underscores, the identifier is a language-defined special name.\n",
    "\n",
    "A hash sign (#) that is not inside a string literal is the beginning of a comment."
   ]
  },
  {
   "cell_type": "code",
   "execution_count": null,
   "metadata": {},
   "outputs": [],
   "source": [
    "#first comment\n",
    "print(\"Hello\")#comment no-2"
   ]
  },
  {
   "cell_type": "markdown",
   "metadata": {},
   "source": [
    "### <i>Quotations in python</i>\n",
    "Python accepts single (‘), double (“) and triple (”’ or “””) quotes to denote string literals.The triple quotes are used to span the string across multiple lines.\n"
   ]
  },
  {
   "cell_type": "raw",
   "metadata": {},
   "source": [
    "1 word = 'word'\n",
    "2 sentence = \"This is a sentence.\"\n",
    "3 paragraph = \"\"\"This is a paragraph. It is\n",
    "4 made up of multiple lines and sentences.\"\"\""
   ]
  },
  {
   "cell_type": "markdown",
   "metadata": {},
   "source": [
    "Variables are used to store values in reserved memory locations. In python, based on data type of the variable, interpreter automatically allocates memory and decides what can be stored in the reserved memory.\n",
    "\n",
    "## Assigning Values\n",
    "Python variables do not need explicit declaration to reserve memory space. The declaration happens automatically when you assign a value to a variable. The equal sign (=) is used to assign values to variables."
   ]
  },
  {
   "cell_type": "raw",
   "metadata": {},
   "source": [
    "1 counter=100\n",
    "2 name=\"Alex\"\n",
    "3 seconds=10.5"
   ]
  },
  {
   "cell_type": "markdown",
   "metadata": {},
   "source": [
    "## Multiple Assignment\n",
    "Python allows to assign a single value to several variables simultaneously."
   ]
  },
  {
   "cell_type": "raw",
   "metadata": {},
   "source": [
    "1 a=b=c=10"
   ]
  },
  {
   "cell_type": "markdown",
   "metadata": {},
   "source": [
    "Python also allows to assign multiple values to multiple variables at a time."
   ]
  },
  {
   "cell_type": "raw",
   "metadata": {},
   "source": [
    "1 p,q,r=1,2.5,\"john\""
   ]
  },
  {
   "cell_type": "markdown",
   "metadata": {},
   "source": [
    "Here p is treated as integer,q as float and r as string.\n",
    "\n",
    "# Standard Data Types\n",
    "Let us go through details with respect to Standard Data Types in Python."
   ]
  },
  {
   "cell_type": "markdown",
   "metadata": {},
   "source": [
    "Python has five data types –\n",
    "\n",
    "* Numbers – int, float,complex\n",
    "* String\n",
    "* Collections\n",
    "    * List\n",
    "    * Set\n",
    "    * Dictionary\n",
    "* Tuple\n",
    "* Dictionary\n",
    "* type(VARIABLE_NAME) returns data type of the variable.\n",
    "\n",
    "### <i>Numbers</i>\n",
    "Number variables are created when we assign a value to them."
   ]
  },
  {
   "cell_type": "raw",
   "metadata": {},
   "source": [
    "1 val1=1\n",
    "2 val2=10"
   ]
  },
  {
   "cell_type": "markdown",
   "metadata": {},
   "source": [
    "We can also delete a single variable or multiple variables by using the del statement."
   ]
  },
  {
   "cell_type": "raw",
   "metadata": {},
   "source": [
    "1 del val1\n",
    "2 del val_1,val_2"
   ]
  },
  {
   "cell_type": "markdown",
   "metadata": {},
   "source": [
    "Python supports three different numerical types-\n",
    "\n",
    "* int (signed integers)\n",
    "* float\n",
    "* complex\n",
    "\n",
    "By default, in python3, all integers are represented as long integers.\n",
    "\n",
    "A complex number consists of an ordered pair of real floating-point numbers denoted by x + yj, where x and y are real numbers and j is the imaginary unit."
   ]
  },
  {
   "cell_type": "code",
   "execution_count": 5,
   "metadata": {},
   "outputs": [],
   "source": [
    "value=10  #integer\n",
    "pi=3.14   #float\n",
    "com= -654+12j #complex"
   ]
  },
  {
   "cell_type": "markdown",
   "metadata": {},
   "source": [
    "### <i>Strings</i>\n",
    "* Strings are identified  as a contiguous set of characters represented in the quotation marks.\n",
    "* Subsets of strings can be taken using the slice operator ( ( [:] ) with indexes starting at 0 in the beginning of the string and working their way from -1 to the end.\n",
    "* Plus (+) sign is used for concatenation of two strings.\n",
    "* Asterisk (*) is repetition operator."
   ]
  },
  {
   "cell_type": "code",
   "execution_count": 4,
   "metadata": {},
   "outputs": [
    {
     "name": "stdout",
     "output_type": "stream",
     "text": [
      "Welcome!\n",
      "W\n",
      "!\n",
      "come\n",
      "Welcome!Welcome!Welcome!\n",
      "Welcome!to python\n"
     ]
    }
   ],
   "source": [
    "str=\"Welcome!\"\n",
    "\n",
    "print(str)\n",
    "print(str[0])\n",
    "print(str[len(str)-1])\n",
    "print(str[3:7])\n",
    "print(str * 3)\n",
    "print(str+\"to python\")"
   ]
  },
  {
   "cell_type": "markdown",
   "metadata": {},
   "source": [
    "### <i>Lists</i>\n",
    "A list contains elements separated by commas and enclosed within square brackets( [] ). Lists can contain elements of different type.\n",
    "\n",
    "* The values stored in a list can be accessed using the slice operator ([ ] and [:]) with indexes starting at 0 in the beginning of the list and working their way to end -1.\n",
    "* Plus (+) sign is used for concatenation of two lists.\n",
    "* Asterisk (*) is repetition operator."
   ]
  },
  {
   "cell_type": "code",
   "execution_count": 10,
   "metadata": {},
   "outputs": [
    {
     "name": "stdout",
     "output_type": "stream",
     "text": [
      "['john', 10, 2.5, 'alex']\n",
      "[123, 'smith']\n",
      "[2.5, 'alex']\n",
      "[123, 'smith', 123, 'smith']\n",
      "johnsmith\n",
      "['john', 10, 2.5, 'alex', 123, 'smith']\n"
     ]
    }
   ],
   "source": [
    "list1=['john',10,2.5,'alex']\n",
    "list2=[123,'smith']\n",
    "\n",
    "print(list1) #prints complete list1\n",
    "print(list2) #prints complete list2\n",
    "print(list1[2:4]) #prints elements from 3rd till 4th\n",
    "print(list2 * 2) #prints list2 two times\n",
    "print(list1[0]+list2[1]) #prints 1st element of list1 concatenated with 1st element of list2 \n",
    "print(list1+list2)#prints concatenated list of list1 and list2"
   ]
  },
  {
   "cell_type": "markdown",
   "metadata": {},
   "source": [
    "### <i>Set</i>\n",
    "A set contains elements separated by commas and enclosed within curly braces ( {} ). While list contain elements group of elements with duplicates, set will remove duplicates.\n",
    "\n",
    "* As set does not contain duplicates we cannot read elements using index\n",
    "* It actually checks whether the element exists in the set if you use [] and pass value to it\n",
    "\n",
    "### <i>Dictionary</i>\n",
    "A dict contains group of key value pairs and they are typically comma separated and enclosed in curly braces ( {} ). Each element’s key value pair are separated by colon ( : ).\n",
    "\n",
    "* Python’s dictionaries are kind of hash-table type.\n",
    "* A dictionary keys are usually numbers or strings.\n",
    "* Dictionary values can be any arbitrary python object.\n",
    "* Dictionaries are enclosed by curly braces ({ }) and values can be assigned and accessed using square braces ([])."
   ]
  },
  {
   "cell_type": "code",
   "execution_count": 13,
   "metadata": {},
   "outputs": [
    {
     "name": "stdout",
     "output_type": "stream",
     "text": [
      "This is one\n",
      "This is two\n",
      "{'name': 'john', 'val': 6734, 'dept': 'sales'}\n",
      "dict_keys(['name', 'val', 'dept'])\n",
      "dict_values(['john', 6734, 'sales'])\n"
     ]
    }
   ],
   "source": [
    "dict1 = {}\n",
    "dict1['one'] = \"This is one\"\n",
    "dict1[2]     = \"This is two\"\n",
    "\n",
    "dict2 = {'name': 'john','val':6734, 'dept': 'sales'}\n",
    "\n",
    "\n",
    "print (dict1['one'])   # Prints value for 'one' key\n",
    "print (dict1[2])       # Prints value for 2 key\n",
    "print (dict2)          # Prints complete dictionary\n",
    "print (dict2.keys())   # Prints all the keys\n",
    "print (dict2.values()) # Prints all the values"
   ]
  },
  {
   "cell_type": "markdown",
   "metadata": {},
   "source": [
    "### *Tuples*\n",
    "* Tuples look similar to list, but they are different\n",
    "* Unlike lists, tuples are enclosed within parenthesis.\n",
    "* Lists represent homogeneous elements, while tuple represents heterogeneous\n",
    "* Tuple is similar to individual record and list is like a table\n",
    "* Main difference between lists and tuples – lists are enclosed in brackets ( [ ] ) and their elements and size can be changed while tuples are enclosed in parenthesis ( ( ) ) and cannot be updated. So the can be reffered as read-only lists.\n",
    "* Plus (+) sign is used for concatenation of two tuples.  Asterisk (*) is repetition operator."
   ]
  },
  {
   "cell_type": "code",
   "execution_count": 14,
   "metadata": {},
   "outputs": [
    {
     "name": "stdout",
     "output_type": "stream",
     "text": [
      "('john', '123', '25.68', '456')\n",
      "('alex', '789')\n",
      "('123', '25.68')\n",
      "('alex', '789', 'alex', '789')\n",
      "('john', '123', '25.68', '456', 'alex', '789')\n"
     ]
    }
   ],
   "source": [
    "tuple1=('john','123','25.68','456')\n",
    "tuple2=('alex','789')\n",
    "\n",
    "print(tuple1)\n",
    "print(tuple2)\n",
    "print(tuple1[1:3])\n",
    "print(tuple2 * 2)\n",
    "print(tuple1+tuple2)"
   ]
  },
  {
   "cell_type": "markdown",
   "metadata": {},
   "source": [
    "### <i>Type conversions</i>\n",
    "* int(x [,base]) – Converts x to an integer. The base specifies the base if x is a string.\n",
    "* float(x) – Converts x to a floating-point number.\n",
    "* complex(real [,imag]) – Creates a complex number.\n",
    "* str(x) – Converts object x to a string representation.\n",
    "* list(s) – Converts s to a list.\n",
    "* tuple(s) – Converts s to a tuple.\n",
    "* dict(d) – Creates a dictionary. d must be a sequence of (key,value) tuples.\n",
    "\n",
    "# Operators\n",
    "We can perform all sorts of standard numeric and string operations in Python using standard operators."
   ]
  },
  {
   "cell_type": "markdown",
   "metadata": {},
   "source": [
    "* Operators are the constructs, which can manipulate the value of operands.\n",
    "* Python language supports the following types of operators − Arithmetic Operators, Relational Operators,   Assignment Operators, Logical Operators, Bitwise Operators, Membership Operators and Identity Operators. \n",
    "    * Arithmetic Operators : +, -, *, /, %, **(Exponent), //(Floor Division)\n",
    "    * Relational Operators : ==, != , < , >, >=, <=\n",
    "    * Assignment Operators : =, +=, -=, *=, /=, %=, **= ,//=\n",
    "    * Logical Operators : and, or, not\n",
    "    * Bitwise Operators : &, |, ^, ~,  << , >>\n",
    "    * Membership Operators : in, not in\n",
    "    * Identity Operators : is, is not"
   ]
  },
  {
   "cell_type": "code",
   "execution_count": 16,
   "metadata": {},
   "outputs": [
    {
     "name": "stdout",
     "output_type": "stream",
     "text": [
      "Line 1 - a is not available in the given list\n",
      "Line 2 - b is not available in the given list\n",
      "Line 3 - a is available in the given list\n",
      "Line 1 a= 20 : 140094189070624 b= 20 : 140094189070624\n",
      "Line 2 - a and b have same identity\n",
      "Line 3 - a and b have same identity\n",
      "Line 4 a= 20 : 140094189070624 b= 30 : 140094189070944\n",
      "Line 5 - a and b do not have same identity\n"
     ]
    }
   ],
   "source": [
    "#Arithmetic Operators\n",
    "\n",
    "a=10\n",
    "b=3\n",
    "c=a**b  \n",
    "d=a//b\n",
    "\n",
    "#Membership Operators\n",
    "\n",
    "a = 10\n",
    "b = 20\n",
    "list = [1, 2, 3, 4, 5 ]\n",
    "\n",
    "if ( a in list ):\n",
    "   print (\"Line 1 - a is available in the given list\")\n",
    "else:\n",
    "   print (\"Line 1 - a is not available in the given list\")\n",
    "\n",
    "if ( b not in list ):\n",
    "   print (\"Line 2 - b is not available in the given list\")\n",
    "else:\n",
    "   print (\"Line 2 - b is available in the given list\")\n",
    "\n",
    "c=b/a\n",
    "if ( c in list ):\n",
    "   print (\"Line 3 - a is available in the given list\")\n",
    "else:\n",
    "   print (\"Line 3 - a is not available in the given list\")\n",
    "\n",
    "#Identity Operators\n",
    "\n",
    "a = 20\n",
    "b = 20\n",
    "print ('Line 1','a=',a,':',id(a), 'b=',b,':',id(b))\n",
    "\n",
    "if ( a is b ):\n",
    "   print (\"Line 2 - a and b have same identity\")\n",
    "else:\n",
    "   print (\"Line 2 - a and b do not have same identity\")\n",
    "\n",
    "if ( id(a) == id(b) ):\n",
    "   print (\"Line 3 - a and b have same identity\")\n",
    "else:\n",
    "   print (\"Line 3 - a and b do not have same identity\")\n",
    "\n",
    "b = 30\n",
    "print ('Line 4','a=',a,':',id(a), 'b=',b,':',id(b))\n",
    "\n",
    "if ( a is not b ): \n",
    "   print (\"Line 5 - a and b do not have same identity\")\n",
    "else:\n",
    "   print (\"Line 5 - a and b have same identity\")"
   ]
  },
  {
   "cell_type": "markdown",
   "metadata": {},
   "source": [
    "* There are three control flow statements in Python – if, for and while.\n",
    "* Python programming language assumes any non-zero and non-null values as true and if it is either zero or null then it is assumed as false value.\n",
    "\n",
    "# Conditional Statements and Loops\n",
    "Let us quickly review how we can Conditional Statements and Loops in Python."
   ]
  },
  {
   "cell_type": "markdown",
   "metadata": {},
   "source": [
    "### *Decision making statements*\n",
    "* **if statements** – An if statement consists of a boolean expression followed by one or more statements.\n",
    "* **if – else statements** – An if statement can be followed by an optional else statement, which executes when the boolean expression is false.\n",
    "* **Nested-if statements** – You can use one if or else if statement inside another if or else if statement.\n"
   ]
  },
  {
   "cell_type": "code",
   "execution_count": 6,
   "metadata": {},
   "outputs": [
    {
     "name": "stdout",
     "output_type": "stream",
     "text": [
      "Value of var is 10\n",
      "Value of var1 is equal to zero\n",
      "Value of var is less than 50\n",
      "Which is 10\n"
     ]
    }
   ],
   "source": [
    "#if-statements\n",
    "var=10\n",
    "var1=0\n",
    "if var:\n",
    "    print(\"Value of var is \"+str(var))\n",
    "if var1:\n",
    "    print(\"Value of var1 is \"+str(var1))\n",
    "\n",
    "#if-else statements\n",
    "if var1:\n",
    "    print(\"Value of var1 is not equal to zero\")\n",
    "else:\n",
    "    print(\"Value of var1 is equal to zero\")\n",
    "\n",
    "#Nested-if\n",
    "if var<50:\n",
    "    print(\"Value of var is less than 50\")\n",
    "    if var==30:\n",
    "        print(\"Which is 30\")\n",
    "    elif var==10:\n",
    "        print(\"Which is 10\")\n",
    "    else:\n",
    "        print(\"Which is not either 10 or 20\")\n",
    "elif var>50:\n",
    "    print(\"Value of var is more than 50\")\n",
    "else:\n",
    "    print(\"Couldn't find value of var\")"
   ]
  },
  {
   "cell_type": "markdown",
   "metadata": {},
   "source": [
    "### *Loops*\n",
    "* **While-loop** – Repeats a statement or group of statements while a given condition is TRUE and tests the condition before executing.\n",
    "* **For-loop** – Execute a sequence of statements multiple times and also abbreviates the code that manages the loop variable.\n",
    "* **Nested-loop** – You can use a loop inside another loop.\n",
    "\n",
    "### *Loop control statements*\n",
    "* **break statement** – break may only occur syntactically nested in a for or while loop, but not nested in a function or class definition within that loop.It terminates the nearest enclosing loop, skipping the optional else clause if the loop has one.\n",
    "* **continue statement** – continue may only occur syntactically nested in a for or while loop, but not nested in a function or class definition. It continues with the next cycle of the nearest enclosing loop."
   ]
  },
  {
   "cell_type": "code",
   "execution_count": 7,
   "metadata": {},
   "outputs": [
    {
     "name": "stdout",
     "output_type": "stream",
     "text": [
      "0\n",
      "1\n",
      "2\n",
      "3\n",
      "4\n",
      "while ends\n",
      "0\n",
      "2\n",
      "4\n",
      "6\n",
      "8\n",
      "for ends1\n",
      "0\n",
      "2\n",
      "4\n",
      "6\n",
      "8\n",
      "for ends2\n",
      "0 is even number\n",
      "1 is odd number\n",
      "2 is even number\n",
      "3 is odd number\n",
      "4 is even number\n",
      "5 is odd number\n",
      "6 is even number\n",
      "7 is odd number\n",
      "8 is even number\n",
      "9 is odd number\n",
      "for ends3\n",
      "2 is prime\n",
      "3 is prime\n",
      "5 is prime\n",
      "7 is prime\n",
      "11 is prime\n",
      "13 is prime\n",
      "17 is prime\n",
      "19 is prime\n",
      "23 is prime\n",
      "29 is prime\n",
      "31 is prime\n",
      "37 is prime\n",
      "41 is prime\n",
      "43 is prime\n",
      "47 is prime\n",
      "53 is prime\n",
      "59 is prime\n",
      "61 is prime\n",
      "67 is prime\n",
      "71 is prime\n",
      "73 is prime\n",
      "79 is prime\n",
      "83 is prime\n",
      "89 is prime\n",
      "97 is prime\n"
     ]
    }
   ],
   "source": [
    "# Prints out 0,1,2,3,4 using while loop\n",
    "count = 0\n",
    "while True:\n",
    "    print(count)\n",
    "    count += 1\n",
    "    if count >= 5:\n",
    "        break\n",
    "print(\"while ends\")      \n",
    "# Prints out only even numbers - 2,4,6,8,10 using for loop and continue\n",
    "for x in range(10):\n",
    "    # Check if x is even\n",
    "    if not x % 2 == 0:\n",
    "        continue\n",
    "    print(x)\n",
    "print(\"for ends1\")  \n",
    "# Prints out only even numbers - 2,4,6,8,10 using for loop\n",
    "for x in range(10):\n",
    "    if x % 2 == 0:\n",
    "        print(x)\n",
    "print(\"for ends2\")    \n",
    "# Printing even and odd numbers using for loop and ternary operator\n",
    "for x in range(10):\n",
    "    print(str(x) + \" is even number\") if(x % 2 == 0) else print(str(x) + \" is odd number\")\n",
    "print(\"for ends3\")     \n",
    "#nested loop----printing prime numbers less than 100\n",
    "i=2\n",
    "while(i<100):\n",
    "    j=2\n",
    "    while(j<=(i/j)):\n",
    "        if not (i%j): break\n",
    "        j=j+1\n",
    "    if(j> (i/j)): print(str(i)+\" is prime\")\n",
    "    i=i+1"
   ]
  },
  {
   "cell_type": "markdown",
   "metadata": {},
   "source": [
    "# Error and Exception Handling\n",
    "Let us explore error and exception handling in Python\n",
    "\n",
    "* Errors\n",
    "* Exceptions\n",
    "* Handling Exceptions (try/catch)\n",
    "* Raising Exceptions\n",
    "* Cleanup actions (finally)"
   ]
  },
  {
   "cell_type": "markdown",
   "metadata": {},
   "source": [
    "### *Errors*\n",
    "Syntax errors, also known as parsing errors, are perhaps the most common kind of complaint you get while you are still learning Python:\n",
    "\n",
    "eg: <mark>while True print('Hello world')</mark>\n",
    "\n",
    "### *Exceptions*\n",
    "Even if a statement or expression is syntactically correct, it may cause an error when an attempt is made to execute it. Errors detected during execution are called *exceptions* and are not unconditionally fatal: you will soon learn how to handle them in Python programs. Most exceptions are not handled by programs, however, and result in error messages as shown here:\n",
    "\n",
    "### *Handling Exceptions (try/catch)*\n",
    "It is possible to write programs that handle selected exceptions. Look at the following example, which asks the user for input until a valid integer has been entered, but allows the user to interrupt the program (using <mark>Control-C</mark> or whatever the operating system supports); note that a user-generated interruption is signalled by raising the <mark>KeyboardInterrupt</mark> exception.\n",
    "\n",
    "### *Flow of try/catch execution*\n",
    "\n",
    "* First, the try clause (the statement(s) between the <mark>try</mark> and <mark>except<mark> keywords) is executed.\n",
    "* If no exception occurs, the except clause is skipped and execution of the <mark>try</mark> statement is finished.\n",
    "* If an exception occurs during execution of the try clause, the rest of the clause is skipped. Then if its type matches the exception named after the <mark>except</mark> keyword, the except clause is executed, and then execution continues after the <mark>try</mark> statement.\n",
    "* If an exception occurs which does not match the exception named in the except clause, it is passed on to outer <mark>try</mark> statements; if no handler is found, it is an unhandled exception and execution stops with a message as shown above.\n",
    "* A <mark>try</mark> statement may have more than one except clause, to specify handlers for different exceptions\n",
    "* An except clause may name multiple exceptions as a parenthesized tuple as shown above\n",
    "\n",
    "### *Raising Exceptions*\n",
    "The <mark>raise</mark> statement allows the programmer to force a specified exception to occur. For example:\n",
    "\n",
    "<mark>aise NameError('HiThere')</mark>\n",
    "\n",
    "### *Cleanup Actions*\n",
    "The <mark>try</mark> statement has another optional clause which is intended to define clean-up actions that must be executed under all circumstances\n",
    "* A finally clause is always executed before leaving the <mark>try</mark> statement, whether an exception has occurred or not.\n",
    "* When an exception has occurred in the <mark>try</mark> clause and has not been handled by an <mark>except</mark> clause (or it has occurred in an <mark>except</mark> or <mark>else</mark> clause), it is re-raised after the <mark>finally</mark> clause has been executed.\n",
    "* The <mark>finally</mark> clause is also executed “on the way out” when any other clause of the <mark>try</mark> statement is left via a <mark>break</mark>, <mark>continue</mark> or <mark>return</mark> statement."
   ]
  },
  {
   "cell_type": "code",
   "execution_count": null,
   "metadata": {},
   "outputs": [],
   "source": []
  }
 ],
 "metadata": {
  "kernelspec": {
   "display_name": "Python 3",
   "language": "python",
   "name": "python3"
  },
  "language_info": {
   "codemirror_mode": {
    "name": "ipython",
    "version": 3
   },
   "file_extension": ".py",
   "mimetype": "text/x-python",
   "name": "python",
   "nbconvert_exporter": "python",
   "pygments_lexer": "ipython3",
   "version": "3.6.8"
  }
 },
 "nbformat": 4,
 "nbformat_minor": 4
}
