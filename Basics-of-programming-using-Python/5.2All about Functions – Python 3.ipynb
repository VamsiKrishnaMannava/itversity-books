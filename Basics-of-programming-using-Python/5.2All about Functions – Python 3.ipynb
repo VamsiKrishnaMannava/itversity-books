{
 "cells": [
  {
   "cell_type": "markdown",
   "metadata": {},
   "source": [
    "# All about Functions – Python 3"
   ]
  },
  {
   "cell_type": "markdown",
   "metadata": {},
   "source": [
    "Now let us get into functions. Functions can be pre-defined and user defined. As part of user defined functions we need to understand different ways to define and pass arguments and also lambda functions.\n",
    "\n",
    "* Pre-defined Functions\n",
    "* String Manipulation Functions\n",
    "* Defining Functions and Returning Values\n",
    "* All about Function Arguments\n",
    "* Defining Lambda Functions\n",
    "* Usage of Lambda Functions\n",
    "\n",
    "## Pre-defined Functions\n",
    "As part of this topic let us check some of the important pre-defined functions.\n",
    "* help\n",
    "* type\n",
    "* Type Casting functions\n",
    "* Reading data from files into collection\n",
    "\n",
    "### *String Manipulating functions*\n",
    "String Manipulation functions are the most extensively used functions in any programming language.\n",
    "* len\n",
    "* count\n",
    "* index and find\n",
    "* Case Conversion Functions\n",
    "    * lower\n",
    "    * upper\n",
    "    * swapcase\n",
    "* Trimming functions\n",
    "    * strip\n",
    "    * rstrip\n",
    "    * lstrip\n",
    "* Padding Functions\n",
    "    * rjust\n",
    "    * ljust\n",
    "* join (concatenate)\n",
    "* split and splitlines\n",
    "* Validate Functions\n",
    "    * isspace\n",
    "    * islower\n",
    "    * isupper\n",
    "    * isdigit\n",
    "    * isalpha\n",
    "    * isalnum \n",
    "* and more\n",
    "* Understanding string manipulating functions is very important for processing the data\n",
    "\n",
    "## Defining Functions\n",
    "Functions are a convenient way to divide your code into useful blocks, allowing us to order our code, make it more readable, reuse it.\n",
    "\n",
    "Here are simple rules to define a function in Python –\n",
    "\n",
    "* Function blocks begin with the keyword ***def*** followed by the function name and parentheses ( ( ) ).\n",
    "* Any input parameters or arguments should be placed within these parentheses. You can also define    parameters inside these parentheses.\n",
    "* The code block within every function starts with a colon (:) and is indented.\n",
    "* The statement return [expression] exits a function, optionally passing back an expression to the caller. A return statement with no arguments is the same as return None.\n",
    "* The first statement of a function can be an optional statement – the documentation string of the function or *docstring*.\n",
    "* All parameters (arguments) in the Python language are passed by reference."
   ]
  },
  {
   "cell_type": "code",
   "execution_count": 2,
   "metadata": {},
   "outputs": [
    {
     "name": "stdout",
     "output_type": "stream",
     "text": [
      "5 is maximum\n",
      "prints the maximum of two numbers..\n",
      "    both the numbers should be integers\n"
     ]
    }
   ],
   "source": [
    "def printMax(x,y):\n",
    "    '''prints the maximum of two numbers..\n",
    "    both the numbers should be integers'''\n",
    "    x=int(x)\n",
    "    y=int(y)\n",
    "    if(x>y):\n",
    "        print(x,\"is maximum\")\n",
    "    else:\n",
    "        print(y,\"is maximum\")\n",
    "        \n",
    "printMax(4,5)  # prints the result\n",
    "print(printMax.__doc__)  #prints doc string."
   ]
  },
  {
   "cell_type": "markdown",
   "metadata": {},
   "source": [
    "### *Return Statement*\n",
    "* The return statement is used to return from a function i.e. break out of the function.\n",
    "* Every function implicitly contains a *return None* statement.\n",
    "* Python supports **multiple** returns."
   ]
  },
  {
   "cell_type": "raw",
   "metadata": {},
   "source": [
    "def min_max(numbers):\n",
    "    smallest=largest=numbers[0]\n",
    "    for item in numbers:\n",
    "        if item > largest:\n",
    "            largest=item\n",
    "        elif item < smallest:\n",
    "            smallest=item\n",
    "    return smallest,largest\n",
    "    \n",
    "smallest,largest=min_max([1,2,5,3,7,9,4])"
   ]
  },
  {
   "cell_type": "markdown",
   "metadata": {},
   "source": [
    "## Function Arguments\n",
    "Let us understand details about Function Arguments.\n",
    "\n",
    "* Default arguments\n",
    "    * For some functions, you may want to make some parameters as optional and use default values if the user does not want to provide values for such parameters. This is done with the help of default argument values.\n",
    "    * Note that the default argument value should be immutable. You cannot use mutable objects such as lists for default argument values.\n",
    "* Keyword arguments\n",
    "    * If you have some functions with many parameters and you want to specify only some parameters, then you can give values for such parameters by naming them this is called keyword arguments.\n",
    "    * This has two advantages – One, using the function is easier since we do not need to worry about the order of the arguments.Two, we can give values to only those parameters which we want, provided that the other parameters have default argument values.\n",
    "* Required arguments\n",
    "    * Required arguments are the arguments passed to a function in correct positional order. Here the number of arguments in the function call should match exactly with the function definition.\n",
    "* Variable-length arguments\n",
    "    * You may need to process a function for more arguments than you specified while defining the function. These arguments are called variable-length arguments and are not named in the function definition, unlike required and default arguments.\n",
    "    * An asterisk (*) is placed before the variable name that will hold the values of all non-keyword variable arguments. This tuple remains empty if no additional arguments are specified during the function call.\n",
    "* Keyword only-parameters\n",
    "    * If we want to specify certain keyword parameters to be available as keyword-only and *not* as positional arguments, they can be declared after a starred parameter"
   ]
  },
  {
   "cell_type": "code",
   "execution_count": 12,
   "metadata": {},
   "outputs": [
    {
     "name": "stdout",
     "output_type": "stream",
     "text": [
      "Hello\n",
      "WorldWorldWorldWorld\n",
      "a is  3 b is  7 and c is  10\n",
      "a is  25 b is  5 and c is  24\n",
      "a is  100 b is  5 and c is  50\n",
      "166\n",
      "66\n"
     ]
    },
    {
     "ename": "TypeError",
     "evalue": "total() missing 1 required keyword-only argument: 'vegetables'",
     "output_type": "error",
     "traceback": [
      "\u001b[0;31m---------------------------------------------------------------------------\u001b[0m",
      "\u001b[0;31mTypeError\u001b[0m                                 Traceback (most recent call last)",
      "\u001b[0;32m<ipython-input-12-27c6de8b3b5d>\u001b[0m in \u001b[0;36m<module>\u001b[0;34m\u001b[0m\n\u001b[1;32m     39\u001b[0m     \u001b[0;32mreturn\u001b[0m \u001b[0mcount\u001b[0m\u001b[0;34m\u001b[0m\u001b[0;34m\u001b[0m\u001b[0m\n\u001b[1;32m     40\u001b[0m \u001b[0mprint\u001b[0m\u001b[0;34m(\u001b[0m\u001b[0mtotal\u001b[0m\u001b[0;34m(\u001b[0m\u001b[0;36m10\u001b[0m\u001b[0;34m,\u001b[0m\u001b[0;36m1\u001b[0m\u001b[0;34m,\u001b[0m\u001b[0;36m2\u001b[0m\u001b[0;34m,\u001b[0m\u001b[0;36m3\u001b[0m\u001b[0;34m,\u001b[0m\u001b[0mvegetables\u001b[0m\u001b[0;34m=\u001b[0m\u001b[0;36m50\u001b[0m\u001b[0;34m)\u001b[0m\u001b[0;34m)\u001b[0m \u001b[0;31m#Output:66\u001b[0m\u001b[0;34m\u001b[0m\u001b[0;34m\u001b[0m\u001b[0m\n\u001b[0;32m---> 41\u001b[0;31m \u001b[0mprint\u001b[0m\u001b[0;34m(\u001b[0m\u001b[0mtotal\u001b[0m\u001b[0;34m(\u001b[0m\u001b[0;36m10\u001b[0m\u001b[0;34m,\u001b[0m\u001b[0;36m1\u001b[0m\u001b[0;34m,\u001b[0m\u001b[0;36m2\u001b[0m\u001b[0;34m,\u001b[0m\u001b[0;36m3\u001b[0m\u001b[0;34m)\u001b[0m\u001b[0;34m)\u001b[0m               \u001b[0;31m#Output: ERROR -> total() needskeyword-only argument vegetables\u001b[0m\u001b[0;34m\u001b[0m\u001b[0;34m\u001b[0m\u001b[0m\n\u001b[0m",
      "\u001b[0;31mTypeError\u001b[0m: total() missing 1 required keyword-only argument: 'vegetables'"
     ]
    }
   ],
   "source": [
    "#Default arguments\n",
    "\n",
    "def say(s,times=1):\n",
    "    print(s*times)\n",
    "\n",
    "say(\"Hello\")                         #prints only one 'Hello'\n",
    "say(\"World\",4)                      #prints 'World' 4 times\n",
    "\n",
    "#Keyword arguments\n",
    "\n",
    "def func(a,b=5,c=10):\n",
    "    print('a is ',a,'b is ',b,'and c is ',c)\n",
    "\n",
    "func(3,7)                           #Output : a is 3 b is 7 and c is 10\n",
    "func(25,c=24)                       #Output : a is 25 b is 5 and c is 24\n",
    "func(c=50,a=100)                    #Output : a is 100 b is 5 and c is 50\n",
    "\n",
    "#Variable-length arguments\n",
    "\n",
    "def total(initial=5,*numbers,**keywords):\n",
    "    count=initial\n",
    "    for num in numbers:\n",
    "        count+=num\n",
    "    for key in keywords:\n",
    "        count+=keywords[key]\n",
    "    return count\n",
    "print(total(10,1,2,3,vegetables=50,fruits=100))\n",
    "\n",
    "#Output : 166\n",
    "\n",
    "#Keyword-only parameters\n",
    "\n",
    "\n",
    "def total(initial=5,*numbers,vegetables):\n",
    "    count=initial\n",
    "    for num in numbers:\n",
    "        count+=num\n",
    "    count+=vegetables\n",
    "    return count\n",
    "print(total(10,1,2,3,vegetables=50)) #Output:66\n",
    "print(total(10,1,2,3))               #Output: ERROR -> total() needskeyword-only argument vegetables "
   ]
  },
  {
   "cell_type": "markdown",
   "metadata": {},
   "source": [
    "## Lambda Functions\n",
    "Let us explore more about Lambda Functions in Python.\n",
    "* Lambda keyword can be used to create small anonymous functions.These functions are called anonymous because they are not declared in the standard manner by using the def keyword.\n",
    "* Lambda forms can take any number of arguments but return just one value in the form of an expression. They cannot contain commands or multiple expressions.\n",
    "* An anonymous function cannot be a direct call to print because lambda requires an expression.\n",
    "* Lambda functions have their own local namespace and cannot access variables other than those in their parameter list and those in the global namespace.\n",
    "* **Lambda Operator or Lambda function**\n",
    "    * The lambda operator is a way to create small anonymous functions, i.e. functions without a name.\n",
    "    * These functions are throw-away functions, i.e. they are just needed where they have been created.\n",
    "    * lambda is an expression, not a statement.\n",
    "    * lambda’s body is a single expression, not a block of statements.\n",
    "    * It is primarily used to pass small expressions as functions\n",
    "* Sum of numbers"
   ]
  },
  {
   "cell_type": "code",
   "execution_count": 33,
   "metadata": {},
   "outputs": [
    {
     "name": "stdout",
     "output_type": "stream",
     "text": [
      "14.0\n",
      "sum of integers using conventional approach 12\n",
      "sum of squares using conventional approach 50\n",
      "sum of integers using lambda functions 12\n",
      "sum of squares using lambda functions 50\n",
      "sum of cubes using lambda functions 216\n"
     ]
    }
   ],
   "source": [
    "# Correct way of getting sumOfIntegers\n",
    "def sumOfIntegers(lb, ub):\n",
    "    l = lb - 1\n",
    "    return ((ub * (ub + 1)) / 2) - ((l * (l + 1)) / 2)\n",
    "\n",
    "print(sumOfIntegers(2, 5))\n",
    "\n",
    "# To demonstrate lambda functions we will loop through the range\n",
    "# Conventional approach, we need to write different functions for\n",
    "# sum of range of numbers\n",
    "# sum of squares in range of numbers\n",
    "# and more\n",
    "def sum(lb, ub):\n",
    "    total = 0\n",
    "    for i in range(lb, ub + 1):\n",
    "        total += i\n",
    "    return total\n",
    "print(\"sum of integers using conventional approach \" +str(sum(3, 5)))\n",
    "\n",
    "def sumOfSquares(lb, ub):\n",
    "    total = 0\n",
    "    for i in range(lb, ub + 1):\n",
    "        total += (i * i)\n",
    "    return total\n",
    "print(\"sum of squares using conventional approach \" +str(sumOfSquares(3, 5)))\n",
    "\n",
    "# With lambda functions, we can get more concise and readable code\n",
    "def sum(f, lb, ub):\n",
    "    total = 0\n",
    "    for i in range(lb, ub + 1):\n",
    "        total += f(i)\n",
    "    return total\n",
    "print(\"sum of integers using lambda functions \" +str(sum(lambda i: i, 3, 5)))\n",
    "print(\"sum of squares using lambda functions \" +str(sum(lambda i: i * i, 3, 5)))\n",
    "\n",
    "# We can also pass named function as argument\n",
    "def cube(i): return i * i * i\n",
    "print(\"sum of cubes using lambda functions \" +str(sum(lambda i: cube(i), 3, 5)))"
   ]
  },
  {
   "cell_type": "markdown",
   "metadata": {},
   "source": [
    "## Usage of Lambda Functions\n",
    "Let us see examples of Lambda Functions to understand the usage of it.\n",
    "* Some of the APIs which uses lambda functions that can be applied on collections\n",
    "    * map\n",
    "    * reduce\n",
    "    * filter"
   ]
  },
  {
   "cell_type": "code",
   "execution_count": 16,
   "metadata": {},
   "outputs": [
    {
     "data": {
      "text/plain": [
       "210"
      ]
     },
     "execution_count": 16,
     "metadata": {},
     "output_type": "execute_result"
    }
   ],
   "source": [
    "min = (lambda x, y: x if x < y else y)\n",
    "min(101*99,102*98)  #Output = 9996\n",
    "min(10*21,24*9)     #Output = 210"
   ]
  },
  {
   "cell_type": "markdown",
   "metadata": {},
   "source": [
    "* **map()**\n",
    "The t = map(func, s) – function applies the function *“func”* to each of the elements in *“s”* and returns a new list, t."
   ]
  },
  {
   "cell_type": "code",
   "execution_count": 36,
   "metadata": {},
   "outputs": [
    {
     "name": "stdout",
     "output_type": "stream",
     "text": [
      "[3, 6, 9, 12, 15]\n",
      "[18, 14, 14, 14]\n",
      "[17, 10, 19, 23]\n",
      "[19, 18, 9, 5]\n"
     ]
    }
   ],
   "source": [
    "#Without lambdas\n",
    "\n",
    "a=[1,2,3,4,5]\n",
    "def foo(a):\n",
    "    return 3*a\n",
    "print(list(map(foo,a)))\n",
    "\n",
    "#Output : [3, 6, 9, 12, 15]\n",
    "#With lambdas\n",
    "\n",
    "a=[1,2,3,4]\n",
    "b=[17,12,11,10]\n",
    "c=[-1,-4,5,9]\n",
    "\n",
    "print(list(map(lambda x,y : x+y,a,b)))                        # Output : [18,14,14,14]\n",
    "print(list(map(lambda x,y,z : x+y+z ,a,b,c)))                 # Output : [17,10,19,23]\n",
    "print(list(map(lambda x,y,z : x+y-z ,a,b,c)))                 # Output : [19,18,9,5]"
   ]
  },
  {
   "cell_type": "markdown",
   "metadata": {},
   "source": [
    "* **filter()**\n",
    "* The filter(func,s) function filters the elements of s using a filter function, func(), that returns true or false. A new sequence is returned consisting of all elements, x of s, for which func(x) is true."
   ]
  },
  {
   "cell_type": "code",
   "execution_count": 21,
   "metadata": {},
   "outputs": [
    {
     "name": "stdout",
     "output_type": "stream",
     "text": [
      "[-5, -4, -3, -2, -1]\n"
     ]
    }
   ],
   "source": [
    "number_list = range(-5,5)\n",
    "less_than_zero=list(filter(lambda x : x < 0,number_list))\n",
    "print(less_than_zero)\n",
    "\n",
    "#Output : [-5,-4,-3,-2,-1]"
   ]
  },
  {
   "cell_type": "markdown",
   "metadata": {},
   "source": [
    "* **reduce()**\n",
    "    * Reduce is a really useful function for performing some computation on a list and returning the result.\n",
    "    * From python 3 it is part of functools"
   ]
  },
  {
   "cell_type": "code",
   "execution_count": 26,
   "metadata": {},
   "outputs": [
    {
     "name": "stdout",
     "output_type": "stream",
     "text": [
      "24\n"
     ]
    }
   ],
   "source": [
    "from functools import reduce\n",
    "product = reduce((lambda x,y :x*y),[1,2,3,4])\n",
    "print(product)\n",
    "#Output : 24"
   ]
  }
 ],
 "metadata": {
  "kernelspec": {
   "display_name": "Python 3",
   "language": "python",
   "name": "python3"
  },
  "language_info": {
   "codemirror_mode": {
    "name": "ipython",
    "version": 3
   },
   "file_extension": ".py",
   "mimetype": "text/x-python",
   "name": "python",
   "nbconvert_exporter": "python",
   "pygments_lexer": "ipython3",
   "version": "3.6.8"
  }
 },
 "nbformat": 4,
 "nbformat_minor": 4
}
